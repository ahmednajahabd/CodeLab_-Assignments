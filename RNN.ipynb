{
  "nbformat": 4,
  "nbformat_minor": 0,
  "metadata": {
    "colab": {
      "name": "RNN.ipynb",
      "provenance": [],
      "collapsed_sections": [],
      "toc_visible": true
    },
    "kernelspec": {
      "name": "python3",
      "display_name": "Python 3"
    },
    "accelerator": "TPU"
  },
  "cells": [
    {
      "cell_type": "markdown",
      "metadata": {
        "id": "7KUEflVqLurs"
      },
      "source": [
        "# IMDB Reviews Reactions\r\n"
      ]
    },
    {
      "cell_type": "markdown",
      "metadata": {
        "id": "k2YyI9ozLiGU"
      },
      "source": [
        "### 1. Importing the necessary libraries:\r\n"
      ]
    },
    {
      "cell_type": "code",
      "metadata": {
        "id": "leDy_NmG-NIF"
      },
      "source": [
        "import tensorflow as tf \r\n",
        "import pandas as pd\r\n",
        "import numpy as np\r\n",
        "from sklearn import model_selection"
      ],
      "execution_count": 126,
      "outputs": []
    },
    {
      "cell_type": "markdown",
      "metadata": {
        "id": "wrcjPSpqMsWZ"
      },
      "source": [
        "### 2. Defining hyperparameter:"
      ]
    },
    {
      "cell_type": "code",
      "metadata": {
        "id": "KVwdtyH5-PET"
      },
      "source": [
        "vocabulary_size = 10000\r\n",
        "max_length = 64\r\n",
        "filter = '!\"#$%&()*+,-./:;<=>?@[\\\\]^_`{|}~\\t\\n'"
      ],
      "execution_count": 127,
      "outputs": []
    },
    {
      "cell_type": "markdown",
      "metadata": {
        "id": "f51tTsbjT6dX"
      },
      "source": [
        "### 3. Importing trainining and testing data:"
      ]
    },
    {
      "cell_type": "code",
      "metadata": {
        "id": "VvtFreeMA0Oa"
      },
      "source": [
        "#Reading the training and testing dataset into a dataframe.\r\n",
        "imdb_df_train=pd.read_csv('/content/train.csv', header=0) \r\n",
        "imdb_df_test=pd.read_csv('/content/test.csv', header=0)\r\n",
        "\r\n",
        "#Extracting the training and testing inputs (\"text\") column from the dataset.\r\n",
        "text_train = imdb_df_train.text\r\n",
        "text_test = imdb_df_test.text"
      ],
      "execution_count": 128,
      "outputs": []
    },
    {
      "cell_type": "markdown",
      "metadata": {
        "id": "BR7o6AzjVZe3"
      },
      "source": [
        "### 4. Data Preprocessing:"
      ]
    },
    {
      "cell_type": "code",
      "metadata": {
        "colab": {
          "base_uri": "https://localhost:8080/"
        },
        "id": "URgYNRl1GYS0",
        "outputId": "9b754d2e-598b-46ef-df68-11c7469d81a3"
      },
      "source": [
        "#Using the tokenizer API to convert 'texts' to numbers.\r\n",
        "#Setting the number of words to convert (num_words), the word (token) to replace the unincluded words (oov_token) and the symbols to be ignored (filters).\r\n",
        "tokenizer=tf.keras.preprocessing.text.Tokenizer(num_words=vocabulary_size,oov_token='<oov>', filters=filter) \r\n",
        "tokenizer.fit_on_texts(text_train) #Applying the tokenizer on the training set.\r\n",
        "\r\n",
        "text_train_seq=tokenizer.texts_to_sequences(text_train) #Converting the texts into sequences of numbers.\r\n",
        "text_test_seq=tokenizer.texts_to_sequences(text_test)\r\n",
        "\r\n",
        "print('review sequences :' ,text_train_seq[:10]) #Previewing a review sequence>\r\n",
        "\r\n",
        "#Padding the sequences to ensure that the data are of a uniform shape by either eliminating the sequences or padding it with zeros. \r\n",
        "x_train=tf.keras.preprocessing.sequence.pad_sequences(text_train_seq,maxlen=max_length,padding='post')\r\n",
        "x_test=tf.keras.preprocessing.sequence.pad_sequences(text_test_seq,maxlen=max_length,padding='post')"
      ],
      "execution_count": 129,
      "outputs": [
        {
          "output_type": "stream",
          "text": [
            "review sequences : [[2, 139, 3, 679], [2, 40, 101, 60, 8, 15, 494, 5, 15, 3496, 553, 32, 60, 61, 128, 148, 76, 1480, 4, 22, 1255], [17, 3060, 7, 1149, 5, 286, 2, 3, 495, 438], [2, 24, 165, 8, 665, 27, 6, 4158, 2, 59, 47, 9, 13, 22, 72, 30, 6, 3497], [2, 24, 8, 1065], [73, 48, 8, 7, 56, 521, 319, 328, 158, 161, 9, 20], [73, 48, 329, 35, 7401, 35, 196, 7402, 888, 4, 73, 2475, 1384, 7, 159, 1885, 19, 2, 117, 3, 14, 15, 455], [2, 3, 29, 439, 27, 78, 29, 7, 1686, 35, 29, 760, 29, 7, 193, 267, 374], [2, 21, 48, 25, 5260, 16, 215, 2, 3, 9, 5260, 99, 5261, 135, 4, 132, 7, 1038, 4159], [2, 3, 666, 94]]\n"
          ],
          "name": "stdout"
        }
      ]
    },
    {
      "cell_type": "markdown",
      "metadata": {
        "id": "rybbjswuPj_b"
      },
      "source": [
        "### 5. Encoding the target (y) values:"
      ]
    },
    {
      "cell_type": "code",
      "metadata": {
        "id": "b-6xUDh1SdDn"
      },
      "source": [
        "#Replacing the emojis within the dataframe in 'emojis' column with integer values using (replace()) function, as neural networks only deals with numbers.\r\n",
        "imdb_df_train.replace({'😢':0,'😡': 1, '😍': 2, '😲': 3, '😨': 4, '😄': 5}, inplace=True)\r\n",
        "imdb_df_test.replace({'😢':0,'😡': 1, '😍': 2, '😲': 3, '😨': 4, '😄': 5}, inplace=True)\r\n",
        "\r\n",
        "#Extracting the training and testing targets (\"emojis\") column from the dataset.\r\n",
        "y_train = imdb_df_train.emoji\r\n",
        "y_test = imdb_df_test.emoji\r\n",
        "\r\n",
        "#Using one_hot() function to encode the classes to (0,1) to prevent the model from assuming a natural ordering between categories that may result in poor performance. \r\n",
        "y_train_onehot, y_test_onehot = tf.one_hot(y_train, depth=6), tf.one_hot(y_test, depth=6)"
      ],
      "execution_count": 130,
      "outputs": []
    },
    {
      "cell_type": "markdown",
      "metadata": {
        "id": "isE4hsOGP_Bs"
      },
      "source": [
        "### 6. Data pipeline:"
      ]
    },
    {
      "cell_type": "code",
      "metadata": {
        "id": "ESIeEaveTcWe"
      },
      "source": [
        "#Building a function to build data pipeline with our dataset.\r\n",
        "def dataset_creater(x,y):\r\n",
        "    data=tf.data.Dataset.from_tensor_slices((x,y)) #Using tf.data API to perform data pipeline.\r\n",
        "    data=data.shuffle(1028) #Shuffling the data with 1028 seed.\r\n",
        "    data=data.batch(64) #Setting the batch size during training to 32. \r\n",
        "    data=data.prefetch(tf.data.experimental.AUTOTUNE) #Using data.prefetch() function to make the CPU perform multithreading.\r\n",
        "    return data\r\n",
        "\r\n",
        "#Using data pipeline function on our training dataset.\r\n",
        "train_dataset=dataset_creater(x_train,y_train_onehot)\r\n",
        "test_dataset=dataset_creater(x_test,y_test_onehot)"
      ],
      "execution_count": 131,
      "outputs": []
    },
    {
      "cell_type": "markdown",
      "metadata": {
        "id": "_IW_L6QFQWGz"
      },
      "source": [
        "### 7. Building, Compiling and Training the classification model:"
      ]
    },
    {
      "cell_type": "code",
      "metadata": {
        "id": "_rVd4VEFYTqz"
      },
      "source": [
        "#Deleting tensorflow and importing it again to prevent the model from the saving the weights after training.\r\n",
        "del tf \r\n",
        "import tensorflow as tf \r\n",
        "\r\n",
        "tf.random.set_seed(42) #Setting the graph-level random seed to get the same random numbers at every session (reproducible results).\r\n",
        "\r\n",
        "#Building the model using tensorflow's Sequential API for easier implementation.\r\n",
        "model=tf.keras.Sequential(\r\n",
        "    [tf.keras.layers.Input([max_length]), #input shape is similar to the padded sequence max length.\r\n",
        "     tf.keras.layers.Embedding(vocabulary_size+1,max_length, mask_zero=True), #Embedding layer with dimension of vacabulary size + 1 (to take paddings into consideration)\r\n",
        "     tf.keras.layers.Bidirectional(tf.keras.layers.LSTM(128)), #Bidirection LSTM layer with return_sequences set to True to add another LSTM layer.\r\n",
        "     tf.keras.layers.Dropout(rate=0.5), #Dropout layer to reduce overfitting.\r\n",
        "     tf.keras.layers.Dense(6, activation=tf.nn.softmax)] #Classification layer (dense).\r\n",
        "    )"
      ],
      "execution_count": 173,
      "outputs": []
    },
    {
      "cell_type": "code",
      "metadata": {
        "colab": {
          "base_uri": "https://localhost:8080/"
        },
        "id": "rTF_IH-Xgi_1",
        "outputId": "72689841-944b-42e2-efce-9adbab2c6b42"
      },
      "source": [
        "#Compiling the model by using Adam() as the optimizer and CategoricalCrossentropy() as this is a multi-class problem.\r\n",
        "model.compile(optimizer=tf.optimizers.Adam(),loss=tf.losses.CategoricalCrossentropy(),metrics=['acc'])\r\n",
        "\r\n",
        "#Using callbacks (ModelCheckpoint) to save the best model from training.\r\n",
        "save_model=tf.keras.callbacks.ModelCheckpoint('Ahmed_Najah.h5',save_best_only=True)\r\n",
        "\r\n",
        "#Training the model.\r\n",
        "history = model.fit(train_dataset,epochs=10,validation_data=test_dataset,callbacks=[save_model])"
      ],
      "execution_count": 174,
      "outputs": [
        {
          "output_type": "stream",
          "text": [
            "Epoch 1/10\n",
            "250/250 [==============================] - 75s 270ms/step - loss: 1.5255 - acc: 0.3790 - val_loss: 0.6924 - val_acc: 0.7525\n",
            "Epoch 2/10\n",
            "250/250 [==============================] - 65s 260ms/step - loss: 0.5807 - acc: 0.8016 - val_loss: 0.3709 - val_acc: 0.8730\n",
            "Epoch 3/10\n",
            "250/250 [==============================] - 65s 259ms/step - loss: 0.2199 - acc: 0.9292 - val_loss: 0.2895 - val_acc: 0.8970\n",
            "Epoch 4/10\n",
            "250/250 [==============================] - 65s 259ms/step - loss: 0.1239 - acc: 0.9582 - val_loss: 0.3086 - val_acc: 0.9050\n",
            "Epoch 5/10\n",
            "250/250 [==============================] - 65s 258ms/step - loss: 0.0925 - acc: 0.9710 - val_loss: 0.3197 - val_acc: 0.9025\n",
            "Epoch 6/10\n",
            "250/250 [==============================] - 64s 256ms/step - loss: 0.0679 - acc: 0.9788 - val_loss: 0.3559 - val_acc: 0.8975\n",
            "Epoch 7/10\n",
            "250/250 [==============================] - 65s 259ms/step - loss: 0.0561 - acc: 0.9818 - val_loss: 0.3258 - val_acc: 0.9060\n",
            "Epoch 8/10\n",
            "250/250 [==============================] - 65s 261ms/step - loss: 0.0485 - acc: 0.9833 - val_loss: 0.3075 - val_acc: 0.9130\n",
            "Epoch 9/10\n",
            "250/250 [==============================] - 65s 260ms/step - loss: 0.0384 - acc: 0.9867 - val_loss: 0.3619 - val_acc: 0.9100\n",
            "Epoch 10/10\n",
            "250/250 [==============================] - 65s 258ms/step - loss: 0.0335 - acc: 0.9890 - val_loss: 0.3296 - val_acc: 0.9095\n"
          ],
          "name": "stdout"
        }
      ]
    },
    {
      "cell_type": "markdown",
      "metadata": {
        "id": "XfkMv2tQQu1r"
      },
      "source": [
        "### 8. Plotting the training results:"
      ]
    },
    {
      "cell_type": "code",
      "metadata": {
        "colab": {
          "base_uri": "https://localhost:8080/",
          "height": 640
        },
        "id": "8lxVZI69QuMk",
        "outputId": "b923f70f-d537-4238-de6b-1fee14751712"
      },
      "source": [
        "#Plotting the results to look for overfitting within the results.\r\n",
        "#Converting the results into a data frame using Pandas tool.\r\n",
        "import matplotlib.pyplot as plt\r\n",
        "df = pd.DataFrame(history.history)\r\n",
        "plt = df[['loss','val_loss']].plot(figsize=(10, 7))\r\n",
        "\r\n",
        "#Plotting the data frame using matplotlib library.\r\n",
        "plt.grid(True)\r\n",
        "plt.gca().set_ylim(0,1) #Setting the x-axis.\r\n",
        "plt.gca().set_xlim(0,9) #Setting the y-axis.\r\n",
        "                              \r\n",
        "plt.show()"
      ],
      "execution_count": 175,
      "outputs": [
        {
          "output_type": "error",
          "ename": "AttributeError",
          "evalue": "ignored",
          "traceback": [
            "\u001b[0;31m---------------------------------------------------------------------------\u001b[0m",
            "\u001b[0;31mAttributeError\u001b[0m                            Traceback (most recent call last)",
            "\u001b[0;32m<ipython-input-175-7b73dcfbb8f9>\u001b[0m in \u001b[0;36m<module>\u001b[0;34m()\u001b[0m\n\u001b[1;32m      7\u001b[0m \u001b[0;31m#Plotting the data frame using matplotlib library.\u001b[0m\u001b[0;34m\u001b[0m\u001b[0;34m\u001b[0m\u001b[0;34m\u001b[0m\u001b[0m\n\u001b[1;32m      8\u001b[0m \u001b[0mplt\u001b[0m\u001b[0;34m.\u001b[0m\u001b[0mgrid\u001b[0m\u001b[0;34m(\u001b[0m\u001b[0;32mTrue\u001b[0m\u001b[0;34m)\u001b[0m\u001b[0;34m\u001b[0m\u001b[0;34m\u001b[0m\u001b[0m\n\u001b[0;32m----> 9\u001b[0;31m \u001b[0mplt\u001b[0m\u001b[0;34m.\u001b[0m\u001b[0mgca\u001b[0m\u001b[0;34m(\u001b[0m\u001b[0;34m)\u001b[0m\u001b[0;34m.\u001b[0m\u001b[0mset_ylim\u001b[0m\u001b[0;34m(\u001b[0m\u001b[0;36m0\u001b[0m\u001b[0;34m,\u001b[0m\u001b[0;36m1\u001b[0m\u001b[0;34m)\u001b[0m \u001b[0;31m#Setting the x-axis.\u001b[0m\u001b[0;34m\u001b[0m\u001b[0;34m\u001b[0m\u001b[0m\n\u001b[0m\u001b[1;32m     10\u001b[0m \u001b[0mplt\u001b[0m\u001b[0;34m.\u001b[0m\u001b[0mgca\u001b[0m\u001b[0;34m(\u001b[0m\u001b[0;34m)\u001b[0m\u001b[0;34m.\u001b[0m\u001b[0mset_xlim\u001b[0m\u001b[0;34m(\u001b[0m\u001b[0;36m0\u001b[0m\u001b[0;34m,\u001b[0m\u001b[0;36m9\u001b[0m\u001b[0;34m)\u001b[0m \u001b[0;31m#Setting the y-axis.\u001b[0m\u001b[0;34m\u001b[0m\u001b[0;34m\u001b[0m\u001b[0m\n\u001b[1;32m     11\u001b[0m \u001b[0;34m\u001b[0m\u001b[0m\n",
            "\u001b[0;31mAttributeError\u001b[0m: 'AxesSubplot' object has no attribute 'gca'"
          ]
        },
        {
          "output_type": "display_data",
          "data": {
            "image/png": "[encoded data removed]",
            "text/plain": [
              "<Figure size 720x504 with 1 Axes>"
            ]
          },
          "metadata": {
            "tags": [],
            "needs_background": "light"
          }
        }
      ]
    },
    {
      "cell_type": "markdown",
      "metadata": {
        "id": "-b_7BqCbQ3hM"
      },
      "source": [
        "### 9. Evaluating the model:"
      ]
    },
    {
      "cell_type": "code",
      "metadata": {
        "id": "w6FCsr6BzIIH"
      },
      "source": [
        "#Building a function to perform prediction on unseen data (text).\r\n",
        "def predict(text):\r\n",
        "  \r\n",
        "  tokenized_texts = tokenizer.texts_to_sequences([text])\r\n",
        "  input = tf.keras.preprocessing.sequence.pad_sequences(tokenized_texts, maxlen=64, padding='post')\r\n",
        "\r\n",
        "  output = model.predict(input) #Using predict function on the input text.\r\n",
        "\r\n",
        "  emojis = ['😢','😡', '😍', '😲', '😨','😄'] #The emojis to be used to describe the the input text (review).\r\n",
        "  \r\n",
        "  print(\"The Sentence: \", text)\r\n",
        "  print('The model reaction: ', emojis[np.argmax(output)])"
      ],
      "execution_count": 176,
      "outputs": []
    },
    {
      "cell_type": "code",
      "metadata": {
        "id": "zfuklO6YuxmY",
        "colab": {
          "base_uri": "https://localhost:8080/"
        },
        "outputId": "ab3211e4-6b28-49dd-8f82-695deff266db"
      },
      "source": [
        "#Using CoLab forms to insert the text (review) that would be used to evaluate the model.\r\n",
        "#@title String fields\r\n",
        "\r\n",
        "text = 'it was sad' #@param {type:\"string\"}\r\n",
        "\r\n",
        "predict(text)"
      ],
      "execution_count": 180,
      "outputs": [
        {
          "output_type": "stream",
          "text": [
            "The Sentence:  it was sad\n",
            "The model reaction:  😢\n"
          ],
          "name": "stdout"
        }
      ]
    },
    {
      "cell_type": "code",
      "metadata": {
        "id": "MElf1ROq-8eB"
      },
      "source": [
        ""
      ],
      "execution_count": null,
      "outputs": []
    }
  ]
}