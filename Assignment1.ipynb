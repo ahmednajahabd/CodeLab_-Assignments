{
 "metadata": {
  "language_info": {
   "codemirror_mode": {
    "name": "ipython",
    "version": 3
   },
   "file_extension": ".py",
   "mimetype": "text/x-python",
   "name": "python",
   "nbconvert_exporter": "python",
   "pygments_lexer": "ipython3",
   "version": "3.7.4-final"
  },
  "orig_nbformat": 2,
  "kernelspec": {
   "name": "python3",
   "display_name": "Python 3",
   "language": "python"
  }
 },
 "nbformat": 4,
 "nbformat_minor": 2,
 "cells": [
  {
   "cell_type": "code",
   "execution_count": 39,
   "metadata": {},
   "outputs": [],
   "source": [
    "#importing the necessary libraries.\n",
    "import pandas as pd"
   ]
  },
  {
   "cell_type": "code",
   "execution_count": 40,
   "metadata": {},
   "outputs": [
    {
     "output_type": "execute_result",
     "data": {
      "text/plain": [
       "   First Name  Gender    Salary  Bonus %             Team\n",
       "0     Douglas    Male   97308.0    6.945        Marketing\n",
       "1      Thomas    Male   61933.0    4.170           Others\n",
       "2       Maria  Female  130590.0   11.858          Finance\n",
       "3       Jerry    Male  138705.0    9.340          Finance\n",
       "4       Larry    Male  101004.0    1.389  Client Services\n",
       "..        ...     ...       ...      ...              ...\n",
       "94      Harry    Male  130620.0    7.030            Legal\n",
       "95    Heather  Female   43026.0   14.166  Client Services\n",
       "96    Cynthia  Female  142321.0    1.737          Finance\n",
       "97      Laura  Female  140371.0   10.620        Marketing\n",
       "98       Tina  Female  100705.0   16.961        Marketing\n",
       "\n",
       "[99 rows x 5 columns]"
      ],
      "text/html": "<div>\n<style scoped>\n    .dataframe tbody tr th:only-of-type {\n        vertical-align: middle;\n    }\n\n    .dataframe tbody tr th {\n        vertical-align: top;\n    }\n\n    .dataframe thead th {\n        text-align: right;\n    }\n</style>\n<table border=\"1\" class=\"dataframe\">\n  <thead>\n    <tr style=\"text-align: right;\">\n      <th></th>\n      <th>First Name</th>\n      <th>Gender</th>\n      <th>Salary</th>\n      <th>Bonus %</th>\n      <th>Team</th>\n    </tr>\n  </thead>\n  <tbody>\n    <tr>\n      <td>0</td>\n      <td>Douglas</td>\n      <td>Male</td>\n      <td>97308.0</td>\n      <td>6.945</td>\n      <td>Marketing</td>\n    </tr>\n    <tr>\n      <td>1</td>\n      <td>Thomas</td>\n      <td>Male</td>\n      <td>61933.0</td>\n      <td>4.170</td>\n      <td>Others</td>\n    </tr>\n    <tr>\n      <td>2</td>\n      <td>Maria</td>\n      <td>Female</td>\n      <td>130590.0</td>\n      <td>11.858</td>\n      <td>Finance</td>\n    </tr>\n    <tr>\n      <td>3</td>\n      <td>Jerry</td>\n      <td>Male</td>\n      <td>138705.0</td>\n      <td>9.340</td>\n      <td>Finance</td>\n    </tr>\n    <tr>\n      <td>4</td>\n      <td>Larry</td>\n      <td>Male</td>\n      <td>101004.0</td>\n      <td>1.389</td>\n      <td>Client Services</td>\n    </tr>\n    <tr>\n      <td>...</td>\n      <td>...</td>\n      <td>...</td>\n      <td>...</td>\n      <td>...</td>\n      <td>...</td>\n    </tr>\n    <tr>\n      <td>94</td>\n      <td>Harry</td>\n      <td>Male</td>\n      <td>130620.0</td>\n      <td>7.030</td>\n      <td>Legal</td>\n    </tr>\n    <tr>\n      <td>95</td>\n      <td>Heather</td>\n      <td>Female</td>\n      <td>43026.0</td>\n      <td>14.166</td>\n      <td>Client Services</td>\n    </tr>\n    <tr>\n      <td>96</td>\n      <td>Cynthia</td>\n      <td>Female</td>\n      <td>142321.0</td>\n      <td>1.737</td>\n      <td>Finance</td>\n    </tr>\n    <tr>\n      <td>97</td>\n      <td>Laura</td>\n      <td>Female</td>\n      <td>140371.0</td>\n      <td>10.620</td>\n      <td>Marketing</td>\n    </tr>\n    <tr>\n      <td>98</td>\n      <td>Tina</td>\n      <td>Female</td>\n      <td>100705.0</td>\n      <td>16.961</td>\n      <td>Marketing</td>\n    </tr>\n  </tbody>\n</table>\n<p>99 rows × 5 columns</p>\n</div>"
     },
     "metadata": {},
     "execution_count": 40
    }
   ],
   "source": [
    "#reading the '.csv' file into a data frame using pandas library's functions (read_csv(),DataFrame()) respectively.\n",
    "df = pd.read_csv(r\"C:\\Users\\msi-pc\\OneDrive\\Desktop\\CodeLab_\\employees.csv\", header = 0) \n",
    "#header set to 0 to include the same table header from the '.csv' file for the data frame header.\n",
    "df1 = pd.DataFrame(df)\n",
    "df1"
   ]
  },
  {
   "cell_type": "code",
   "execution_count": 41,
   "metadata": {},
   "outputs": [
    {
     "output_type": "execute_result",
     "data": {
      "text/plain": [
       "    Gender    Salary  Bonus %             Team\n",
       "0     Male   97308.0    6.945        Marketing\n",
       "1     Male   61933.0    4.170           Others\n",
       "2   Female  130590.0   11.858          Finance\n",
       "3     Male  138705.0    9.340          Finance\n",
       "4     Male  101004.0    1.389  Client Services\n",
       "..     ...       ...      ...              ...\n",
       "94    Male  130620.0    7.030            Legal\n",
       "95  Female   43026.0   14.166  Client Services\n",
       "96  Female  142321.0    1.737          Finance\n",
       "97  Female  140371.0   10.620        Marketing\n",
       "98  Female  100705.0   16.961        Marketing\n",
       "\n",
       "[99 rows x 4 columns]"
      ],
      "text/html": "<div>\n<style scoped>\n    .dataframe tbody tr th:only-of-type {\n        vertical-align: middle;\n    }\n\n    .dataframe tbody tr th {\n        vertical-align: top;\n    }\n\n    .dataframe thead th {\n        text-align: right;\n    }\n</style>\n<table border=\"1\" class=\"dataframe\">\n  <thead>\n    <tr style=\"text-align: right;\">\n      <th></th>\n      <th>Gender</th>\n      <th>Salary</th>\n      <th>Bonus %</th>\n      <th>Team</th>\n    </tr>\n  </thead>\n  <tbody>\n    <tr>\n      <td>0</td>\n      <td>Male</td>\n      <td>97308.0</td>\n      <td>6.945</td>\n      <td>Marketing</td>\n    </tr>\n    <tr>\n      <td>1</td>\n      <td>Male</td>\n      <td>61933.0</td>\n      <td>4.170</td>\n      <td>Others</td>\n    </tr>\n    <tr>\n      <td>2</td>\n      <td>Female</td>\n      <td>130590.0</td>\n      <td>11.858</td>\n      <td>Finance</td>\n    </tr>\n    <tr>\n      <td>3</td>\n      <td>Male</td>\n      <td>138705.0</td>\n      <td>9.340</td>\n      <td>Finance</td>\n    </tr>\n    <tr>\n      <td>4</td>\n      <td>Male</td>\n      <td>101004.0</td>\n      <td>1.389</td>\n      <td>Client Services</td>\n    </tr>\n    <tr>\n      <td>...</td>\n      <td>...</td>\n      <td>...</td>\n      <td>...</td>\n      <td>...</td>\n    </tr>\n    <tr>\n      <td>94</td>\n      <td>Male</td>\n      <td>130620.0</td>\n      <td>7.030</td>\n      <td>Legal</td>\n    </tr>\n    <tr>\n      <td>95</td>\n      <td>Female</td>\n      <td>43026.0</td>\n      <td>14.166</td>\n      <td>Client Services</td>\n    </tr>\n    <tr>\n      <td>96</td>\n      <td>Female</td>\n      <td>142321.0</td>\n      <td>1.737</td>\n      <td>Finance</td>\n    </tr>\n    <tr>\n      <td>97</td>\n      <td>Female</td>\n      <td>140371.0</td>\n      <td>10.620</td>\n      <td>Marketing</td>\n    </tr>\n    <tr>\n      <td>98</td>\n      <td>Female</td>\n      <td>100705.0</td>\n      <td>16.961</td>\n      <td>Marketing</td>\n    </tr>\n  </tbody>\n</table>\n<p>99 rows × 4 columns</p>\n</div>"
     },
     "metadata": {},
     "execution_count": 41
    }
   ],
   "source": [
    "#removing the first column (First Name) from the data frame, using (drop()) function, setting axis to 1 for column removal and 0 for row removal (taking into consideration that we need to replace 'First Name' with the target row index).\n",
    "df2 = df1.drop(['First Name'], axis = 1)\n",
    "df2"
   ]
  },
  {
   "cell_type": "code",
   "execution_count": 42,
   "metadata": {},
   "outputs": [
    {
     "output_type": "execute_result",
     "data": {
      "text/plain": [
       "    Gender  Salary  Bonus %   Team\n",
       "0    False   False    False  False\n",
       "1    False   False    False  False\n",
       "2    False   False    False  False\n",
       "3    False   False    False  False\n",
       "4    False   False    False  False\n",
       "..     ...     ...      ...    ...\n",
       "94   False   False    False  False\n",
       "95   False   False    False  False\n",
       "96   False   False    False  False\n",
       "97   False   False    False  False\n",
       "98   False   False    False  False\n",
       "\n",
       "[99 rows x 4 columns]"
      ],
      "text/html": "<div>\n<style scoped>\n    .dataframe tbody tr th:only-of-type {\n        vertical-align: middle;\n    }\n\n    .dataframe tbody tr th {\n        vertical-align: top;\n    }\n\n    .dataframe thead th {\n        text-align: right;\n    }\n</style>\n<table border=\"1\" class=\"dataframe\">\n  <thead>\n    <tr style=\"text-align: right;\">\n      <th></th>\n      <th>Gender</th>\n      <th>Salary</th>\n      <th>Bonus %</th>\n      <th>Team</th>\n    </tr>\n  </thead>\n  <tbody>\n    <tr>\n      <td>0</td>\n      <td>False</td>\n      <td>False</td>\n      <td>False</td>\n      <td>False</td>\n    </tr>\n    <tr>\n      <td>1</td>\n      <td>False</td>\n      <td>False</td>\n      <td>False</td>\n      <td>False</td>\n    </tr>\n    <tr>\n      <td>2</td>\n      <td>False</td>\n      <td>False</td>\n      <td>False</td>\n      <td>False</td>\n    </tr>\n    <tr>\n      <td>3</td>\n      <td>False</td>\n      <td>False</td>\n      <td>False</td>\n      <td>False</td>\n    </tr>\n    <tr>\n      <td>4</td>\n      <td>False</td>\n      <td>False</td>\n      <td>False</td>\n      <td>False</td>\n    </tr>\n    <tr>\n      <td>...</td>\n      <td>...</td>\n      <td>...</td>\n      <td>...</td>\n      <td>...</td>\n    </tr>\n    <tr>\n      <td>94</td>\n      <td>False</td>\n      <td>False</td>\n      <td>False</td>\n      <td>False</td>\n    </tr>\n    <tr>\n      <td>95</td>\n      <td>False</td>\n      <td>False</td>\n      <td>False</td>\n      <td>False</td>\n    </tr>\n    <tr>\n      <td>96</td>\n      <td>False</td>\n      <td>False</td>\n      <td>False</td>\n      <td>False</td>\n    </tr>\n    <tr>\n      <td>97</td>\n      <td>False</td>\n      <td>False</td>\n      <td>False</td>\n      <td>False</td>\n    </tr>\n    <tr>\n      <td>98</td>\n      <td>False</td>\n      <td>False</td>\n      <td>False</td>\n      <td>False</td>\n    </tr>\n  </tbody>\n</table>\n<p>99 rows × 4 columns</p>\n</div>"
     },
     "metadata": {},
     "execution_count": 42
    }
   ],
   "source": [
    "#checking the data frame for None/NaN values using (isnull()) function.\n",
    "df2.isnull()"
   ]
  },
  {
   "cell_type": "code",
   "execution_count": 43,
   "metadata": {},
   "outputs": [
    {
     "output_type": "execute_result",
     "data": {
      "text/plain": [
       "    Gender    Salary  Bonus %                  Team\n",
       "11  Female  102508.0      NaN                 Legal\n",
       "24    Male       NaN   13.873       Client Services\n",
       "27    Male  122367.0      NaN                 Legal\n",
       "47  Female       NaN    9.000       Client Services\n",
       "51    Male       NaN   14.009                 Sales\n",
       "54  Female   83677.0      NaN           Engineering\n",
       "59  Female       NaN   11.279           Engineering\n",
       "67  Female       NaN    9.735               Finance\n",
       "73  Female   90582.0      NaN                 Sales\n",
       "74    Male       NaN   17.029             Marketing\n",
       "85    Male       NaN    3.887       Client Services\n",
       "92  Female  119009.0      NaN  Business Development"
      ],
      "text/html": "<div>\n<style scoped>\n    .dataframe tbody tr th:only-of-type {\n        vertical-align: middle;\n    }\n\n    .dataframe tbody tr th {\n        vertical-align: top;\n    }\n\n    .dataframe thead th {\n        text-align: right;\n    }\n</style>\n<table border=\"1\" class=\"dataframe\">\n  <thead>\n    <tr style=\"text-align: right;\">\n      <th></th>\n      <th>Gender</th>\n      <th>Salary</th>\n      <th>Bonus %</th>\n      <th>Team</th>\n    </tr>\n  </thead>\n  <tbody>\n    <tr>\n      <td>11</td>\n      <td>Female</td>\n      <td>102508.0</td>\n      <td>NaN</td>\n      <td>Legal</td>\n    </tr>\n    <tr>\n      <td>24</td>\n      <td>Male</td>\n      <td>NaN</td>\n      <td>13.873</td>\n      <td>Client Services</td>\n    </tr>\n    <tr>\n      <td>27</td>\n      <td>Male</td>\n      <td>122367.0</td>\n      <td>NaN</td>\n      <td>Legal</td>\n    </tr>\n    <tr>\n      <td>47</td>\n      <td>Female</td>\n      <td>NaN</td>\n      <td>9.000</td>\n      <td>Client Services</td>\n    </tr>\n    <tr>\n      <td>51</td>\n      <td>Male</td>\n      <td>NaN</td>\n      <td>14.009</td>\n      <td>Sales</td>\n    </tr>\n    <tr>\n      <td>54</td>\n      <td>Female</td>\n      <td>83677.0</td>\n      <td>NaN</td>\n      <td>Engineering</td>\n    </tr>\n    <tr>\n      <td>59</td>\n      <td>Female</td>\n      <td>NaN</td>\n      <td>11.279</td>\n      <td>Engineering</td>\n    </tr>\n    <tr>\n      <td>67</td>\n      <td>Female</td>\n      <td>NaN</td>\n      <td>9.735</td>\n      <td>Finance</td>\n    </tr>\n    <tr>\n      <td>73</td>\n      <td>Female</td>\n      <td>90582.0</td>\n      <td>NaN</td>\n      <td>Sales</td>\n    </tr>\n    <tr>\n      <td>74</td>\n      <td>Male</td>\n      <td>NaN</td>\n      <td>17.029</td>\n      <td>Marketing</td>\n    </tr>\n    <tr>\n      <td>85</td>\n      <td>Male</td>\n      <td>NaN</td>\n      <td>3.887</td>\n      <td>Client Services</td>\n    </tr>\n    <tr>\n      <td>92</td>\n      <td>Female</td>\n      <td>119009.0</td>\n      <td>NaN</td>\n      <td>Business Development</td>\n    </tr>\n  </tbody>\n</table>\n</div>"
     },
     "metadata": {},
     "execution_count": 43
    }
   ],
   "source": [
    "#since it is a large data base, we will check and show only the null values within every column.\n",
    "df2[df2.isnull().any(axis = 1)]"
   ]
  },
  {
   "source": [
    "#the null values that were found were 12 values spreaded all throughout the data frame.\n",
    "#we will try to fill the missing values in each column, by taking the mean value of that column."
   ],
   "cell_type": "code",
   "metadata": {},
   "execution_count": 44,
   "outputs": []
  },
  {
   "cell_type": "code",
   "execution_count": 45,
   "metadata": {},
   "outputs": [
    {
     "output_type": "execute_result",
     "data": {
      "text/plain": [
       "    Gender    Salary  Bonus %                  Team\n",
       "11  Female  102508.0      NaN                 Legal\n",
       "27    Male  122367.0      NaN                 Legal\n",
       "54  Female   83677.0      NaN           Engineering\n",
       "73  Female   90582.0      NaN                 Sales\n",
       "92  Female  119009.0      NaN  Business Development"
      ],
      "text/html": "<div>\n<style scoped>\n    .dataframe tbody tr th:only-of-type {\n        vertical-align: middle;\n    }\n\n    .dataframe tbody tr th {\n        vertical-align: top;\n    }\n\n    .dataframe thead th {\n        text-align: right;\n    }\n</style>\n<table border=\"1\" class=\"dataframe\">\n  <thead>\n    <tr style=\"text-align: right;\">\n      <th></th>\n      <th>Gender</th>\n      <th>Salary</th>\n      <th>Bonus %</th>\n      <th>Team</th>\n    </tr>\n  </thead>\n  <tbody>\n    <tr>\n      <td>11</td>\n      <td>Female</td>\n      <td>102508.0</td>\n      <td>NaN</td>\n      <td>Legal</td>\n    </tr>\n    <tr>\n      <td>27</td>\n      <td>Male</td>\n      <td>122367.0</td>\n      <td>NaN</td>\n      <td>Legal</td>\n    </tr>\n    <tr>\n      <td>54</td>\n      <td>Female</td>\n      <td>83677.0</td>\n      <td>NaN</td>\n      <td>Engineering</td>\n    </tr>\n    <tr>\n      <td>73</td>\n      <td>Female</td>\n      <td>90582.0</td>\n      <td>NaN</td>\n      <td>Sales</td>\n    </tr>\n    <tr>\n      <td>92</td>\n      <td>Female</td>\n      <td>119009.0</td>\n      <td>NaN</td>\n      <td>Business Development</td>\n    </tr>\n  </tbody>\n</table>\n</div>"
     },
     "metadata": {},
     "execution_count": 45
    }
   ],
   "source": [
    "#first column that will be filled is the \"Salary\" column, using (fillna()) function with the (mean()) of the column to replace the null values, inplace is set to True to replace the values permanently.\n",
    "df2.Salary.fillna(df2.Salary.mean(), inplace=True)\n",
    "df2[df2.isnull().any(axis=1)] #after filling the column, we will check the null values again."
   ]
  },
  {
   "cell_type": "code",
   "execution_count": 46,
   "metadata": {},
   "outputs": [
    {
     "output_type": "execute_result",
     "data": {
      "text/plain": [
       "Gender              Female\n",
       "Salary             94199.2\n",
       "Bonus %                  9\n",
       "Team       Client Services\n",
       "Name: 47, dtype: object"
      ]
     },
     "metadata": {},
     "execution_count": 46
    }
   ],
   "source": [
    "#checking a previously null value from the \"Salary\" column. using (iloc[]) function to explore the entire row of the value. \n",
    "df2.iloc[47] #mean value = 94199.2"
   ]
  },
  {
   "cell_type": "code",
   "execution_count": 47,
   "metadata": {},
   "outputs": [
    {
     "output_type": "execute_result",
     "data": {
      "text/plain": [
       "Gender        Male\n",
       "Salary      122367\n",
       "Bonus %    9.97779\n",
       "Team         Legal\n",
       "Name: 27, dtype: object"
      ]
     },
     "metadata": {},
     "execution_count": 47
    }
   ],
   "source": [
    "#filling the second column 'Bonus %' with the mean value too.\n",
    "df2['Bonus %'].fillna(df2['Bonus %'].mean(), inplace=True)\n",
    "df2.iloc[27] #checking for the previously null values again, mean = 9.97779"
   ]
  },
  {
   "cell_type": "code",
   "execution_count": 48,
   "metadata": {},
   "outputs": [
    {
     "output_type": "execute_result",
     "data": {
      "text/plain": [
       "Empty DataFrame\n",
       "Columns: [Gender, Salary, Bonus %, Team]\n",
       "Index: []"
      ],
      "text/html": "<div>\n<style scoped>\n    .dataframe tbody tr th:only-of-type {\n        vertical-align: middle;\n    }\n\n    .dataframe tbody tr th {\n        vertical-align: top;\n    }\n\n    .dataframe thead th {\n        text-align: right;\n    }\n</style>\n<table border=\"1\" class=\"dataframe\">\n  <thead>\n    <tr style=\"text-align: right;\">\n      <th></th>\n      <th>Gender</th>\n      <th>Salary</th>\n      <th>Bonus %</th>\n      <th>Team</th>\n    </tr>\n  </thead>\n  <tbody>\n  </tbody>\n</table>\n</div>"
     },
     "metadata": {},
     "execution_count": 48
    }
   ],
   "source": [
    "df2[df2.isnull().any(axis=1)] #no more null values within the data frame."
   ]
  },
  {
   "cell_type": "code",
   "execution_count": 10,
   "metadata": {},
   "outputs": [
    {
     "output_type": "execute_result",
     "data": {
      "text/plain": [
       "    Gender    Salary  Bonus %  Team\n",
       "0        0   97308.0    6.945     0\n",
       "1        0   61933.0    4.170    10\n",
       "2        1  130590.0   11.858     1\n",
       "3        0  138705.0    9.340     1\n",
       "4        0  101004.0    1.389     2\n",
       "..     ...       ...      ...   ...\n",
       "94       0  130620.0    7.030     3\n",
       "95       1   43026.0   14.166     2\n",
       "96       1  142321.0    1.737     1\n",
       "97       1  140371.0   10.620     0\n",
       "98       1  100705.0   16.961     0\n",
       "\n",
       "[99 rows x 4 columns]"
      ],
      "text/html": "<div>\n<style scoped>\n    .dataframe tbody tr th:only-of-type {\n        vertical-align: middle;\n    }\n\n    .dataframe tbody tr th {\n        vertical-align: top;\n    }\n\n    .dataframe thead th {\n        text-align: right;\n    }\n</style>\n<table border=\"1\" class=\"dataframe\">\n  <thead>\n    <tr style=\"text-align: right;\">\n      <th></th>\n      <th>Gender</th>\n      <th>Salary</th>\n      <th>Bonus %</th>\n      <th>Team</th>\n    </tr>\n  </thead>\n  <tbody>\n    <tr>\n      <td>0</td>\n      <td>0</td>\n      <td>97308.0</td>\n      <td>6.945</td>\n      <td>0</td>\n    </tr>\n    <tr>\n      <td>1</td>\n      <td>0</td>\n      <td>61933.0</td>\n      <td>4.170</td>\n      <td>10</td>\n    </tr>\n    <tr>\n      <td>2</td>\n      <td>1</td>\n      <td>130590.0</td>\n      <td>11.858</td>\n      <td>1</td>\n    </tr>\n    <tr>\n      <td>3</td>\n      <td>0</td>\n      <td>138705.0</td>\n      <td>9.340</td>\n      <td>1</td>\n    </tr>\n    <tr>\n      <td>4</td>\n      <td>0</td>\n      <td>101004.0</td>\n      <td>1.389</td>\n      <td>2</td>\n    </tr>\n    <tr>\n      <td>...</td>\n      <td>...</td>\n      <td>...</td>\n      <td>...</td>\n      <td>...</td>\n    </tr>\n    <tr>\n      <td>94</td>\n      <td>0</td>\n      <td>130620.0</td>\n      <td>7.030</td>\n      <td>3</td>\n    </tr>\n    <tr>\n      <td>95</td>\n      <td>1</td>\n      <td>43026.0</td>\n      <td>14.166</td>\n      <td>2</td>\n    </tr>\n    <tr>\n      <td>96</td>\n      <td>1</td>\n      <td>142321.0</td>\n      <td>1.737</td>\n      <td>1</td>\n    </tr>\n    <tr>\n      <td>97</td>\n      <td>1</td>\n      <td>140371.0</td>\n      <td>10.620</td>\n      <td>0</td>\n    </tr>\n    <tr>\n      <td>98</td>\n      <td>1</td>\n      <td>100705.0</td>\n      <td>16.961</td>\n      <td>0</td>\n    </tr>\n  </tbody>\n</table>\n<p>99 rows × 4 columns</p>\n</div>"
     },
     "metadata": {},
     "execution_count": 10
    }
   ],
   "source": [
    "#replacing the string values within the data frame in 'Gender and Team' columns with integer values using (replace()) function, as Machine Learning only deals with numbers. \n",
    "df2.replace(to_replace='Male', value=0, inplace=True)\n",
    "df2.replace(to_replace='Female', value=1, inplace=True)\n",
    "df2.replace(to_replace='Marketing', value=0, inplace=True)\n",
    "df2.replace(to_replace='Finance', value=1, inplace=True)\n",
    "df2.replace(to_replace='Client Services', value=2, inplace=True)\n",
    "df2.replace(to_replace='Legal', value=3, inplace=True)\n",
    "df2.replace(to_replace='Product', value=4, inplace=True)\n",
    "df2.replace(to_replace='Engineering', value=5, inplace=True)\n",
    "df2.replace(to_replace='Business Development', value=6, inplace=True)\n",
    "df2.replace(to_replace='Human Resources', value=7, inplace=True)\n",
    "df2.replace(to_replace='Sales', value=8, inplace=True)\n",
    "df2.replace(to_replace='Distribution', value=9, inplace=True)\n",
    "df2.replace(to_replace='Others', value=10, inplace=True)\n",
    "df2"
   ]
  },
  {
   "cell_type": "code",
   "execution_count": 11,
   "metadata": {},
   "outputs": [
    {
     "output_type": "execute_result",
     "data": {
      "text/plain": [
       "{'Marketing': 0,\n",
       " 'Finance': 1,\n",
       " 'Client Services': 2,\n",
       " 'Legal': 3,\n",
       " 'Product': 4,\n",
       " 'Engineering': 5,\n",
       " 'Business Development': 6,\n",
       " 'Human Resources': 7,\n",
       " 'Sales': 8,\n",
       " 'Distribution': 9,\n",
       " 'Others': 10}"
      ]
     },
     "metadata": {},
     "execution_count": 11
    }
   ],
   "source": [
    "#making a dictionary to map all the string values in the 'Team' column that were converted into integers.\n",
    "df3={'Marketing':0, 'Finance':1, 'Client Services':2, 'Legal':3, 'Product':4, 'Engineering':5, 'Business Development':6, 'Human Resources': 7, 'Sales':8, 'Distribution':9, 'Others':10}\n",
    "df3"
   ]
  },
  {
   "cell_type": "code",
   "execution_count": 14,
   "metadata": {},
   "outputs": [],
   "source": [
    "#saving the new modified data frame into a (.csv) file using (to_csv()) function, with the same header and without the indeces.\n",
    "df2.to_csv('AssignmentSolution.csv', header = True, index = False)"
   ]
  }
 ]
}